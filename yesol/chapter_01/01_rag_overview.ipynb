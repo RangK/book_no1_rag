{
 "cells": [
  {
   "cell_type": "code",
   "execution_count": null,
   "metadata": {},
   "outputs": [],
   "source": [
    "!export PYTHONPATH=$PYTHONPATH:$(pwd)/../.."
   ]
  },
  {
   "cell_type": "code",
   "execution_count": 1,
   "metadata": {},
   "outputs": [
    {
     "name": "stdout",
     "output_type": "stream",
     "text": [
      "Python Path: /Users/yesol/projects/crefle/playground/book_no1_rag/yesol\n"
     ]
    }
   ],
   "source": [
    "import sys\n",
    "import os\n",
    "\n",
    "current_path = os.getcwd()\n",
    "python_path = os.path.abspath(os.path.join(current_path, '..'))\n",
    "\n",
    "if python_path not in sys.path:\n",
    "    sys.path.append(python_path)\n",
    "\n",
    "print(\"Python Path:\", python_path)"
   ]
  },
  {
   "cell_type": "code",
   "execution_count": 2,
   "metadata": {},
   "outputs": [
    {
     "name": "stdout",
     "output_type": "stream",
     "text": [
      "Generated Text: Hello there! 👋 \n",
      "\n",
      "How can I help you today? Are you looking to:\n",
      "\n",
      "* **Chat?** Just want to have a conversation?\n",
      "* **Get information?** Do you have a question I can answer?\n",
      "* **Brainstorm ideas?** Need help with a project?\n",
      "* **Write something?**  Like a story, poem, or email?\n",
      "* **Something else?** \n",
      "\n",
      "Just let me know what you're thinking!\n",
      "\n",
      "\n",
      "\n",
      "\n"
     ]
    },
    {
     "data": {
      "text/plain": [
       "\"Hello there! 👋 \\n\\nHow can I help you today? Are you looking to:\\n\\n* **Chat?** Just want to have a conversation?\\n* **Get information?** Do you have a question I can answer?\\n* **Brainstorm ideas?** Need help with a project?\\n* **Write something?**  Like a story, poem, or email?\\n* **Something else?** \\n\\nJust let me know what you're thinking!\\n\\n\\n\\n\""
      ]
     },
     "execution_count": 2,
     "metadata": {},
     "output_type": "execute_result"
    }
   ],
   "source": [
    "from cllama.cllama import send_query\n",
    "\n",
    "send_query([\n",
    "            {\n",
    "                \"role\": \"user\",\n",
    "                \"content\": \"hello\"\n",
    "            }\n",
    "        ])"
   ]
  }
 ],
 "metadata": {
  "kernelspec": {
   "display_name": "rag-ai",
   "language": "python",
   "name": "python3"
  },
  "language_info": {
   "codemirror_mode": {
    "name": "ipython",
    "version": 3
   },
   "file_extension": ".py",
   "mimetype": "text/x-python",
   "name": "python",
   "nbconvert_exporter": "python",
   "pygments_lexer": "ipython3",
   "version": "3.12.2"
  }
 },
 "nbformat": 4,
 "nbformat_minor": 2
}
